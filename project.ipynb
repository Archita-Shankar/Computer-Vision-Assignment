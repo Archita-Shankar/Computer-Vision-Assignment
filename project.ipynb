{
 "cells": [
  {
   "cell_type": "markdown",
   "id": "3702986f",
   "metadata": {},
   "source": [
    "# REQUIRED LIBRARIES INSTALLATION"
   ]
  },
  {
   "cell_type": "code",
   "execution_count": 1,
   "id": "dd6cb1b5",
   "metadata": {},
   "outputs": [
    {
     "name": "stdout",
     "output_type": "stream",
     "text": [
      "Collecting cmake\n",
      "  Downloading cmake-4.0.0-py3-none-win_amd64.whl.metadata (6.3 kB)\n",
      "Downloading cmake-4.0.0-py3-none-win_amd64.whl (36.7 MB)\n",
      "   ---------------------------------------- 0.0/36.7 MB ? eta -:--:--\n",
      "   ---------------------------------------- 0.0/36.7 MB ? eta -:--:--\n",
      "    --------------------------------------- 0.8/36.7 MB 4.2 MB/s eta 0:00:09\n",
      "   -- ------------------------------------- 2.1/36.7 MB 4.7 MB/s eta 0:00:08\n",
      "   --- ------------------------------------ 3.1/36.7 MB 5.0 MB/s eta 0:00:07\n",
      "   ---- ----------------------------------- 3.9/36.7 MB 4.9 MB/s eta 0:00:07\n",
      "   ----- ---------------------------------- 5.2/36.7 MB 4.8 MB/s eta 0:00:07\n",
      "   ------ --------------------------------- 6.0/36.7 MB 4.6 MB/s eta 0:00:07\n",
      "   ------- -------------------------------- 7.1/36.7 MB 4.8 MB/s eta 0:00:07\n",
      "   -------- ------------------------------- 7.9/36.7 MB 4.8 MB/s eta 0:00:06\n",
      "   ---------- ----------------------------- 9.2/36.7 MB 4.8 MB/s eta 0:00:06\n",
      "   ----------- ---------------------------- 10.2/36.7 MB 4.8 MB/s eta 0:00:06\n",
      "   ------------ --------------------------- 11.5/36.7 MB 4.9 MB/s eta 0:00:06\n",
      "   ------------- -------------------------- 12.6/36.7 MB 4.9 MB/s eta 0:00:05\n",
      "   -------------- ------------------------- 13.1/36.7 MB 4.9 MB/s eta 0:00:05\n",
      "   --------------- ------------------------ 14.4/36.7 MB 4.8 MB/s eta 0:00:05\n",
      "   ---------------- ----------------------- 15.5/36.7 MB 4.8 MB/s eta 0:00:05\n",
      "   ------------------ --------------------- 16.8/36.7 MB 4.9 MB/s eta 0:00:05\n",
      "   ------------------- -------------------- 17.8/36.7 MB 4.9 MB/s eta 0:00:04\n",
      "   -------------------- ------------------- 18.4/36.7 MB 4.9 MB/s eta 0:00:04\n",
      "   -------------------- ------------------- 19.1/36.7 MB 4.7 MB/s eta 0:00:04\n",
      "   ---------------------- ----------------- 20.2/36.7 MB 4.7 MB/s eta 0:00:04\n",
      "   ----------------------- ---------------- 21.2/36.7 MB 4.8 MB/s eta 0:00:04\n",
      "   ------------------------ --------------- 22.3/36.7 MB 4.8 MB/s eta 0:00:04\n",
      "   ------------------------- -------------- 23.6/36.7 MB 4.8 MB/s eta 0:00:03\n",
      "   -------------------------- ------------- 24.4/36.7 MB 4.8 MB/s eta 0:00:03\n",
      "   --------------------------- ------------ 25.2/36.7 MB 4.8 MB/s eta 0:00:03\n",
      "   ---------------------------- ----------- 26.2/36.7 MB 4.7 MB/s eta 0:00:03\n",
      "   ----------------------------- ---------- 26.7/36.7 MB 4.7 MB/s eta 0:00:03\n",
      "   ------------------------------ --------- 27.8/36.7 MB 4.6 MB/s eta 0:00:02\n",
      "   ------------------------------- -------- 28.8/36.7 MB 4.7 MB/s eta 0:00:02\n",
      "   -------------------------------- ------- 29.9/36.7 MB 4.7 MB/s eta 0:00:02\n",
      "   --------------------------------- ------ 30.9/36.7 MB 4.7 MB/s eta 0:00:02\n",
      "   ----------------------------------- ---- 32.2/36.7 MB 4.7 MB/s eta 0:00:01\n",
      "   ------------------------------------ --- 33.3/36.7 MB 4.7 MB/s eta 0:00:01\n",
      "   ------------------------------------- -- 34.3/36.7 MB 4.7 MB/s eta 0:00:01\n",
      "   -------------------------------------- - 35.4/36.7 MB 4.7 MB/s eta 0:00:01\n",
      "   ---------------------------------------  36.4/36.7 MB 4.7 MB/s eta 0:00:01\n",
      "   ---------------------------------------- 36.7/36.7 MB 4.6 MB/s eta 0:00:00\n",
      "Installing collected packages: cmake\n",
      "Successfully installed cmake-4.0.0\n",
      "Note: you may need to restart the kernel to use updated packages.\n"
     ]
    },
    {
     "name": "stderr",
     "output_type": "stream",
     "text": [
      "\n",
      "[notice] A new release of pip is available: 25.0.1 -> 25.1.1\n",
      "[notice] To update, run: python.exe -m pip install --upgrade pip\n"
     ]
    }
   ],
   "source": [
    "pip install cmake"
   ]
  },
  {
   "cell_type": "code",
   "execution_count": 2,
   "id": "3d6534a2",
   "metadata": {},
   "outputs": [
    {
     "name": "stdout",
     "output_type": "stream",
     "text": [
      "^C\n",
      "Note: you may need to restart the kernel to use updated packages.\n"
     ]
    }
   ],
   "source": [
    "pip install dlib"
   ]
  },
  {
   "cell_type": "code",
   "execution_count": 1,
   "id": "d3e34626",
   "metadata": {},
   "outputs": [
    {
     "name": "stdout",
     "output_type": "stream",
     "text": [
      "Collecting face-recognition\n",
      "  Using cached face_recognition-1.3.0-py2.py3-none-any.whl.metadata (21 kB)\n",
      "Collecting face-recognition-models>=0.3.0 (from face-recognition)\n",
      "  Using cached face_recognition_models-0.3.0.tar.gz (100.1 MB)\n",
      "  Preparing metadata (setup.py): started\n",
      "  Preparing metadata (setup.py): finished with status 'done'\n",
      "Requirement already satisfied: Click>=6.0 in c:\\users\\a06bh\\appdata\\roaming\\python\\python312\\site-packages (from face-recognition) (8.1.7)\n",
      "Collecting dlib>=19.7 (from face-recognition)\n",
      "  Using cached dlib-19.24.8.tar.gz (3.4 MB)\n",
      "  Preparing metadata (setup.py): started\n",
      "  Preparing metadata (setup.py): finished with status 'done'\n",
      "Requirement already satisfied: numpy in c:\\users\\a06bh\\.conda\\envs\\gpu\\lib\\site-packages (from face-recognition) (1.26.4)\n",
      "Requirement already satisfied: Pillow in c:\\users\\a06bh\\appdata\\roaming\\python\\python312\\site-packages (from face-recognition) (11.0.0)\n",
      "Requirement already satisfied: colorama in c:\\users\\a06bh\\appdata\\roaming\\python\\python312\\site-packages (from Click>=6.0->face-recognition) (0.4.6)\n",
      "Using cached face_recognition-1.3.0-py2.py3-none-any.whl (15 kB)\n",
      "Building wheels for collected packages: dlib, face-recognition-models\n",
      "  Building wheel for dlib (setup.py): started\n",
      "  Building wheel for dlib (setup.py): still running...\n",
      "  Building wheel for dlib (setup.py): still running...\n",
      "  Building wheel for dlib (setup.py): finished with status 'done'\n",
      "  Created wheel for dlib: filename=dlib-19.24.8-cp312-cp312-win_amd64.whl size=3177380 sha256=734c5ebc3a73570a8965585d9eda8df4e4df6a4e74271fafa400e75725f7bd6b\n",
      "  Stored in directory: c:\\users\\a06bh\\appdata\\local\\pip\\cache\\wheels\\45\\47\\c4\\f5c2cf6f3b4ab4f558f27375101ead0ef7f1861d5aa54f5f8c\n",
      "  Building wheel for face-recognition-models (setup.py): started\n",
      "  Building wheel for face-recognition-models (setup.py): finished with status 'done'\n",
      "  Created wheel for face-recognition-models: filename=face_recognition_models-0.3.0-py2.py3-none-any.whl size=100566178 sha256=57df69b32b04c779e554dc7c6045b4b76d86064a5c3bb6b4570135f32265a8c2\n",
      "  Stored in directory: c:\\users\\a06bh\\appdata\\local\\pip\\cache\\wheels\\8f\\47\\c8\\f44c5aebb7507f7c8a2c0bd23151d732d0f0bd6884ad4ac635\n",
      "Successfully built dlib face-recognition-models\n",
      "Installing collected packages: face-recognition-models, dlib, face-recognition\n",
      "Successfully installed dlib-19.24.8 face-recognition-1.3.0 face-recognition-models-0.3.0\n",
      "Note: you may need to restart the kernel to use updated packages.\n"
     ]
    },
    {
     "name": "stderr",
     "output_type": "stream",
     "text": [
      "\n",
      "[notice] A new release of pip is available: 25.0.1 -> 25.1.1\n",
      "[notice] To update, run: python.exe -m pip install --upgrade pip\n"
     ]
    }
   ],
   "source": [
    "pip install face-recognition"
   ]
  },
  {
   "cell_type": "code",
   "execution_count": 2,
   "id": "181c3edd",
   "metadata": {},
   "outputs": [
    {
     "name": "stdout",
     "output_type": "stream",
     "text": [
      "Collecting cvzone\n",
      "  Downloading cvzone-1.6.1.tar.gz (25 kB)\n",
      "  Preparing metadata (setup.py): started\n",
      "  Preparing metadata (setup.py): finished with status 'done'\n",
      "Requirement already satisfied: opencv-python in c:\\users\\a06bh\\.conda\\envs\\gpu\\lib\\site-packages (from cvzone) (4.11.0.86)\n",
      "Requirement already satisfied: numpy in c:\\users\\a06bh\\.conda\\envs\\gpu\\lib\\site-packages (from cvzone) (1.26.4)\n",
      "Building wheels for collected packages: cvzone\n",
      "  Building wheel for cvzone (setup.py): started\n",
      "  Building wheel for cvzone (setup.py): finished with status 'done'\n",
      "  Created wheel for cvzone: filename=cvzone-1.6.1-py3-none-any.whl size=26309 sha256=e725b286495da473577ea5b49977419894aeed3739cbf1b9155cd0c41c74b706\n",
      "  Stored in directory: c:\\users\\a06bh\\appdata\\local\\pip\\cache\\wheels\\5d\\21\\e8\\3147ae88d44e27f06e0175d337a7673c70fb957202cbbe2034\n",
      "Successfully built cvzone\n",
      "Installing collected packages: cvzone\n",
      "Successfully installed cvzone-1.6.1\n",
      "Note: you may need to restart the kernel to use updated packages.\n"
     ]
    },
    {
     "name": "stderr",
     "output_type": "stream",
     "text": [
      "\n",
      "[notice] A new release of pip is available: 25.0.1 -> 25.1.1\n",
      "[notice] To update, run: python.exe -m pip install --upgrade pip\n"
     ]
    }
   ],
   "source": [
    "pip install cvzone"
   ]
  },
  {
   "cell_type": "code",
   "execution_count": 1,
   "id": "329bca18",
   "metadata": {},
   "outputs": [
    {
     "name": "stdout",
     "output_type": "stream",
     "text": [
      "Requirement already satisfied: opencv-python in c:\\users\\a06bh\\.conda\\envs\\gpu\\lib\\site-packages (4.11.0.86)Note: you may need to restart the kernel to use updated packages.\n",
      "\n",
      "Requirement already satisfied: numpy>=1.21.2 in c:\\users\\a06bh\\.conda\\envs\\gpu\\lib\\site-packages (from opencv-python) (1.26.4)\n"
     ]
    },
    {
     "name": "stderr",
     "output_type": "stream",
     "text": [
      "\n",
      "[notice] A new release of pip is available: 25.0.1 -> 25.1.1\n",
      "[notice] To update, run: python.exe -m pip install --upgrade pip\n"
     ]
    }
   ],
   "source": [
    "pip install opencv-python"
   ]
  },
  {
   "cell_type": "markdown",
   "id": "a1f13d61",
   "metadata": {},
   "source": [
    "## CONNECTING WEBCAM"
   ]
  },
  {
   "cell_type": "code",
   "execution_count": 1,
   "id": "1c4309b9",
   "metadata": {},
   "outputs": [
    {
     "name": "stdout",
     "output_type": "stream",
     "text": [
      "Loading Encodings\n",
      "Encode file loaded\n"
     ]
    }
   ],
   "source": [
    "import cv2\n",
    "import os\n",
    "import pickle\n",
    "import face_recognition\n",
    "import numpy as np\n",
    "import cvzone\n",
    "\n",
    "# Initialize webcam\n",
    "cap = cv2.VideoCapture(0)\n",
    "cap.set(3, 640)  # Width\n",
    "cap.set(4, 480)  # Height\n",
    "\n",
    "# Load background image\n",
    "original_bg = cv2.imread('Resources/bg.png')\n",
    "imgbg = original_bg.copy()\n",
    "\n",
    "# Load mode images\n",
    "folderModePath = 'Resources/Modes'\n",
    "modePathList = os.listdir(folderModePath)\n",
    "imgModeList = [cv2.imread(os.path.join(folderModePath, path)) for path in modePathList]\n",
    "\n",
    "# Display parameters\n",
    "webcam_width = 480\n",
    "webcam_height = 360\n",
    "mode_img_width = 350\n",
    "mode_img_index = 0\n",
    "\n",
    "# Load encodings\n",
    "print(\"Loading Encodings\")\n",
    "with open('EncodeGenerator.p', 'rb') as file:\n",
    "    encodeListKnownWithIds = pickle.load(file)\n",
    "encodeListKnown, studentIds = encodeListKnownWithIds\n",
    "print(\"Encode file loaded\")\n",
    "\n",
    "while True:\n",
    "    success, img = cap.read()\n",
    "    if not success:\n",
    "        print(\"Failed to capture webcam frame.\")\n",
    "        break\n",
    "\n",
    "    # Reset background\n",
    "    imgbg = original_bg.copy()\n",
    "\n",
    "    # Face detection\n",
    "    imgS = cv2.resize(img, (0, 0), None, 0.25, 0.25)\n",
    "    imgS = cv2.cvtColor(imgS, cv2.COLOR_BGR2RGB)\n",
    "    \n",
    "    faceCurFrame = face_recognition.face_locations(imgS)\n",
    "    encodeCurFrame = face_recognition.face_encodings(imgS, faceCurFrame)\n",
    "\n",
    "    # Resize and position webcam image\n",
    "    resized_img = cv2.resize(img, (webcam_width, webcam_height))\n",
    "    bg_height, bg_width = imgbg.shape[:2]\n",
    "    x_off = (bg_width - webcam_width) // 2\n",
    "    y_off = (bg_height - webcam_height) // 2\n",
    "    imgbg[y_off:y_off + webcam_height, x_off:x_off + webcam_width] = resized_img\n",
    "\n",
    "    # Position mode image\n",
    "    # mode_img_resized = cv2.resize(imgModeList[mode_img_index], (mode_img_width, webcam_height))\n",
    "    # imgbg[y_off:y_off + webcam_height, x_off + webcam_width:x_off + webcam_width + mode_img_width] = mode_img_resized\n",
    "\n",
    "    # Face recognition\n",
    "    for encodeFace, faceLoc in zip(encodeCurFrame, faceCurFrame):\n",
    "        matches = face_recognition.compare_faces(encodeListKnown, encodeFace)\n",
    "        faceDis = face_recognition.face_distance(encodeListKnown, encodeFace)\n",
    "        \n",
    "        # Default label\n",
    "        label = \"Unknown\"\n",
    "        box_color = (0, 0, 255)  # Red for unknown\n",
    "        \n",
    "        if len(faceDis) > 0:\n",
    "            matchIndex = np.argmin(faceDis)\n",
    "            if matches[matchIndex]:\n",
    "                label = str(studentIds[matchIndex])\n",
    "                box_color = (0, 255, 0)  # Green for known\n",
    "            \n",
    "            # Scale and position bounding box\n",
    "            y1, x2, y2, x1 = faceLoc\n",
    "            y1, x2, y2, x1 = y1*4, x2*4, y2*4, x1*4\n",
    "            bbox_x = x_off + x1 - 80\n",
    "            bbox_y = y_off + y1 - 80\n",
    "            bbox_w = x2 - x1 \n",
    "            bbox_h = y2 - y1 \n",
    "            \n",
    "            # Draw bounding box\n",
    "            imgbg = cvzone.cornerRect(imgbg, (bbox_x, bbox_y, bbox_w, bbox_h), rt=0, colorR=box_color)\n",
    "            \n",
    "            # Add label with background\n",
    "            (text_width, text_height), _ = cv2.getTextSize(label, cv2.FONT_HERSHEY_SIMPLEX, 0.6, 2)\n",
    "            cv2.rectangle(imgbg, \n",
    "                         (bbox_x, bbox_y - text_height - 10), \n",
    "                         (bbox_x + text_width, bbox_y - 10), \n",
    "                         (0, 0, 0), -1)\n",
    "            cv2.putText(imgbg, label, \n",
    "                       (bbox_x, bbox_y - 10), \n",
    "                       cv2.FONT_HERSHEY_SIMPLEX, 0.6, (255, 255, 255), 2)\n",
    "\n",
    "    cv2.imshow(\"Face Recognition\", imgbg)\n",
    "    \n",
    "    if cv2.waitKey(1) & 0xFF == ord('q'):\n",
    "        break\n",
    "\n",
    "cap.release()\n",
    "cv2.destroyAllWindows()"
   ]
  }
 ],
 "metadata": {
  "kernelspec": {
   "display_name": "Python 3",
   "language": "python",
   "name": "python3"
  },
  "language_info": {
   "codemirror_mode": {
    "name": "ipython",
    "version": 3
   },
   "file_extension": ".py",
   "mimetype": "text/x-python",
   "name": "python",
   "nbconvert_exporter": "python",
   "pygments_lexer": "ipython3",
   "version": "3.12.3"
  }
 },
 "nbformat": 4,
 "nbformat_minor": 5
}
