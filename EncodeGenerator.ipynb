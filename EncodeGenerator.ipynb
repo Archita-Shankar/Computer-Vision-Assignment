{
 "cells": [
  {
   "cell_type": "code",
   "execution_count": 4,
   "id": "620d4170",
   "metadata": {},
   "outputs": [],
   "source": [
    "import cv2\n",
    "import face_recognition\n",
    "import pickle\n",
    "import os"
   ]
  },
  {
   "cell_type": "code",
   "execution_count": 5,
   "id": "b13382ff",
   "metadata": {},
   "outputs": [
    {
     "name": "stdout",
     "output_type": "stream",
     "text": [
      "['Aabharan', 'Mokshit']\n"
     ]
    }
   ],
   "source": [
    "folderPath = 'Images'\n",
    "PathList = os.listdir(folderPath)\n",
    "imgList = []\n",
    "studentIds=[]\n",
    "for path in PathList:\n",
    "    imgList.append(cv2.imread(os.path.join(folderPath, path)))\n",
    "    studentIds.append(os.path.splitext(path)[0])\n",
    "print(studentIds)"
   ]
  },
  {
   "cell_type": "code",
   "execution_count": 6,
   "id": "567ffa51",
   "metadata": {},
   "outputs": [
    {
     "name": "stdout",
     "output_type": "stream",
     "text": [
      "Encoding in process\n",
      "Encoding complete\n",
      "FILE SAVED\n"
     ]
    }
   ],
   "source": [
    "def findEncodings(imagesList):\n",
    "    encodeList=[]\n",
    "    for img in imagesList:\n",
    "        img=cv2.cvtColor(img,cv2.COLOR_BGR2RGB)\n",
    "        encode=face_recognition.face_encodings(img)[0]\n",
    "        encodeList.append(encode)\n",
    "\n",
    "    return encodeList\n",
    "print(\"Encoding in process\") \n",
    "encodeListKnown=findEncodings(imgList)\n",
    "encodeListKnownWithIds=[encodeListKnown,studentIds]\n",
    "print(\"Encoding complete\") \n",
    "\n",
    "file=open(\"EncodeGenerator.p\",'wb')\n",
    "pickle.dump(encodeListKnownWithIds,file)\n",
    "file.close()\n",
    "print(\"FILE SAVED\")\n"
   ]
  }
 ],
 "metadata": {
  "kernelspec": {
   "display_name": "Python 3",
   "language": "python",
   "name": "python3"
  },
  "language_info": {
   "codemirror_mode": {
    "name": "ipython",
    "version": 3
   },
   "file_extension": ".py",
   "mimetype": "text/x-python",
   "name": "python",
   "nbconvert_exporter": "python",
   "pygments_lexer": "ipython3",
   "version": "3.12.3"
  }
 },
 "nbformat": 4,
 "nbformat_minor": 5
}
